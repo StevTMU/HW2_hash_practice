{
  "nbformat": 4,
  "nbformat_minor": 0,
  "metadata": {
    "colab": {
      "provenance": [],
      "mount_file_id": "16TdJmJBVg18LK4zoGjUdkO9YoiP08u9b",
      "authorship_tag": "ABX9TyOfAPSGkwDGLvu/L4uLBzGu",
      "include_colab_link": true
    },
    "kernelspec": {
      "name": "python3",
      "display_name": "Python 3"
    },
    "language_info": {
      "name": "python"
    }
  },
  "cells": [
    {
      "cell_type": "markdown",
      "metadata": {
        "id": "view-in-github",
        "colab_type": "text"
      },
      "source": [
        "<a href=\"https://colab.research.google.com/github/StevTMU/HW2_hash_practice/blob/main/HW2_hash_practice.ipynb\" target=\"_parent\"><img src=\"https://colab.research.google.com/assets/colab-badge.svg\" alt=\"Open In Colab\"/></a>"
      ]
    },
    {
      "cell_type": "code",
      "execution_count": 28,
      "metadata": {
        "colab": {
          "base_uri": "https://localhost:8080/"
        },
        "id": "jyqgCcMPd-wO",
        "outputId": "4e38e1f1-d0ad-4920-841f-4989bfa02cf3"
      },
      "outputs": [
        {
          "output_type": "stream",
          "name": "stdout",
          "text": [
            "892\n",
            "{'Cheese': 234, 'Pizza': 83, 'Coke': 145, 'Steak': 46, 'Burger': 196, 'Fries': 76, 'Rib': 33, 'Taco': 57, 'Pho': 19, 'Potato': 3}\n",
            "總共有 10 個不重複的英文字\n",
            "dict_items([('Cheese', 234), ('Pizza', 83), ('Coke', 145), ('Steak', 46), ('Burger', 196), ('Fries', 76), ('Rib', 33), ('Taco', 57), ('Pho', 19), ('Potato', 3)])\n"
          ]
        }
      ],
      "source": [
        "hw_dict = {}\n",
        "f = open('/content/hw2_data.txt', 'r')\n",
        "\n",
        "#先看全部有多少個字串\n",
        "num = len(open('/content/hw2_data.txt', 'r').readlines()) #readlines:一次讀取全部，暫存在list，#並用len()返回個數\n",
        "num = int(num)\n",
        "print(num)\n",
        "\n",
        "\n",
        "for i in range(num):\n",
        "  hw = f.readline() #一次讀一行\n",
        "  hw = hw.replace('\\n','') #去掉換行符號\n",
        "  if hw_dict.get(hw) == None: \n",
        "    hw_dict[hw] = 1\n",
        "  else:\n",
        "    hw_dict[hw] +=1\n",
        "\n",
        "print(hw_dict)\n",
        "print(\"總共有\",len(hw_dict),\"個不重複的英文字\")\n",
        "print(hw_dict.items())\n",
        "\n",
        "\n"
      ]
    }
  ]
}